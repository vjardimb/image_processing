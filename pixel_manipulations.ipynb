{
  "cells": [
    {
      "cell_type": "code",
      "execution_count": null,
      "metadata": {
        "id": "U7AaWU6Kwb03",
        "colab": {
          "base_uri": "https://localhost:8080/",
          "height": 35
        },
        "outputId": "a1d0cef2-c0a0-4324-93d7-5be2e5b65304"
      },
      "outputs": [
        {
          "output_type": "execute_result",
          "data": {
            "application/vnd.google.colaboratory.intrinsic+json": {
              "type": "string"
            },
            "text/plain": [
              "' 1. Implement a function able to extract the red component of an image '"
            ]
          },
          "metadata": {},
          "execution_count": 5
        }
      ],
      "source": [
        "''' 1. Implement a function able to extract the red component of an image'''"
      ]
    },
    {
      "cell_type": "code",
      "execution_count": null,
      "metadata": {
        "id": "lG7qQ7tz4xQz"
      },
      "outputs": [],
      "source": [
        "from google.colab.patches import cv2_imshow as cv2 # for image display\n"
      ]
    },
    {
      "cell_type": "code",
      "execution_count": null,
      "metadata": {
        "colab": {
          "base_uri": "https://localhost:8080/"
        },
        "id": "Y7aVvTxp5RoN",
        "outputId": "0dd74342-ea10-4b52-d570-a9785f99b11c"
      },
      "outputs": [
        {
          "output_type": "error",
          "ename": "FileNotFoundError",
          "evalue": "ignored",
          "traceback": [
            "\u001b[0;31m---------------------------------------------------------------------------\u001b[0m",
            "\u001b[0;31mFileNotFoundError\u001b[0m                         Traceback (most recent call last)",
            "\u001b[0;32m<ipython-input-1-9663749a487d>\u001b[0m in \u001b[0;36m<module>\u001b[0;34m()\u001b[0m\n\u001b[1;32m      8\u001b[0m \u001b[0;34m\u001b[0m\u001b[0m\n\u001b[1;32m      9\u001b[0m \u001b[0;34m\u001b[0m\u001b[0m\n\u001b[0;32m---> 10\u001b[0;31m \u001b[0mimage_0\u001b[0m \u001b[0;34m=\u001b[0m \u001b[0mio\u001b[0m\u001b[0;34m.\u001b[0m\u001b[0mimread\u001b[0m\u001b[0;34m(\u001b[0m\u001b[0;34m'Lena.jpg'\u001b[0m\u001b[0;34m)\u001b[0m\u001b[0;34m\u001b[0m\u001b[0;34m\u001b[0m\u001b[0m\n\u001b[0m\u001b[1;32m     11\u001b[0m \u001b[0;31m# image_1 = io.imread('donjon.png')\u001b[0m\u001b[0;34m\u001b[0m\u001b[0;34m\u001b[0m\u001b[0;34m\u001b[0m\u001b[0m\n\u001b[1;32m     12\u001b[0m \u001b[0;34m\u001b[0m\u001b[0m\n",
            "\u001b[0;32m/usr/local/lib/python3.7/dist-packages/skimage/io/_io.py\u001b[0m in \u001b[0;36mimread\u001b[0;34m(fname, as_gray, plugin, **plugin_args)\u001b[0m\n\u001b[1;32m     46\u001b[0m \u001b[0;34m\u001b[0m\u001b[0m\n\u001b[1;32m     47\u001b[0m     \u001b[0;32mwith\u001b[0m \u001b[0mfile_or_url_context\u001b[0m\u001b[0;34m(\u001b[0m\u001b[0mfname\u001b[0m\u001b[0;34m)\u001b[0m \u001b[0;32mas\u001b[0m \u001b[0mfname\u001b[0m\u001b[0;34m:\u001b[0m\u001b[0;34m\u001b[0m\u001b[0;34m\u001b[0m\u001b[0m\n\u001b[0;32m---> 48\u001b[0;31m         \u001b[0mimg\u001b[0m \u001b[0;34m=\u001b[0m \u001b[0mcall_plugin\u001b[0m\u001b[0;34m(\u001b[0m\u001b[0;34m'imread'\u001b[0m\u001b[0;34m,\u001b[0m \u001b[0mfname\u001b[0m\u001b[0;34m,\u001b[0m \u001b[0mplugin\u001b[0m\u001b[0;34m=\u001b[0m\u001b[0mplugin\u001b[0m\u001b[0;34m,\u001b[0m \u001b[0;34m**\u001b[0m\u001b[0mplugin_args\u001b[0m\u001b[0;34m)\u001b[0m\u001b[0;34m\u001b[0m\u001b[0;34m\u001b[0m\u001b[0m\n\u001b[0m\u001b[1;32m     49\u001b[0m \u001b[0;34m\u001b[0m\u001b[0m\n\u001b[1;32m     50\u001b[0m     \u001b[0;32mif\u001b[0m \u001b[0;32mnot\u001b[0m \u001b[0mhasattr\u001b[0m\u001b[0;34m(\u001b[0m\u001b[0mimg\u001b[0m\u001b[0;34m,\u001b[0m \u001b[0;34m'ndim'\u001b[0m\u001b[0;34m)\u001b[0m\u001b[0;34m:\u001b[0m\u001b[0;34m\u001b[0m\u001b[0;34m\u001b[0m\u001b[0m\n",
            "\u001b[0;32m/usr/local/lib/python3.7/dist-packages/skimage/io/manage_plugins.py\u001b[0m in \u001b[0;36mcall_plugin\u001b[0;34m(kind, *args, **kwargs)\u001b[0m\n\u001b[1;32m    205\u001b[0m                                (plugin, kind))\n\u001b[1;32m    206\u001b[0m \u001b[0;34m\u001b[0m\u001b[0m\n\u001b[0;32m--> 207\u001b[0;31m     \u001b[0;32mreturn\u001b[0m \u001b[0mfunc\u001b[0m\u001b[0;34m(\u001b[0m\u001b[0;34m*\u001b[0m\u001b[0margs\u001b[0m\u001b[0;34m,\u001b[0m \u001b[0;34m**\u001b[0m\u001b[0mkwargs\u001b[0m\u001b[0;34m)\u001b[0m\u001b[0;34m\u001b[0m\u001b[0;34m\u001b[0m\u001b[0m\n\u001b[0m\u001b[1;32m    208\u001b[0m \u001b[0;34m\u001b[0m\u001b[0m\n\u001b[1;32m    209\u001b[0m \u001b[0;34m\u001b[0m\u001b[0m\n",
            "\u001b[0;32m/usr/local/lib/python3.7/dist-packages/skimage/io/_plugins/imageio_plugin.py\u001b[0m in \u001b[0;36mimread\u001b[0;34m(*args, **kwargs)\u001b[0m\n\u001b[1;32m      8\u001b[0m \u001b[0;34m@\u001b[0m\u001b[0mwraps\u001b[0m\u001b[0;34m(\u001b[0m\u001b[0mimageio_imread\u001b[0m\u001b[0;34m)\u001b[0m\u001b[0;34m\u001b[0m\u001b[0;34m\u001b[0m\u001b[0m\n\u001b[1;32m      9\u001b[0m \u001b[0;32mdef\u001b[0m \u001b[0mimread\u001b[0m\u001b[0;34m(\u001b[0m\u001b[0;34m*\u001b[0m\u001b[0margs\u001b[0m\u001b[0;34m,\u001b[0m \u001b[0;34m**\u001b[0m\u001b[0mkwargs\u001b[0m\u001b[0;34m)\u001b[0m\u001b[0;34m:\u001b[0m\u001b[0;34m\u001b[0m\u001b[0;34m\u001b[0m\u001b[0m\n\u001b[0;32m---> 10\u001b[0;31m     \u001b[0;32mreturn\u001b[0m \u001b[0mnp\u001b[0m\u001b[0;34m.\u001b[0m\u001b[0masarray\u001b[0m\u001b[0;34m(\u001b[0m\u001b[0mimageio_imread\u001b[0m\u001b[0;34m(\u001b[0m\u001b[0;34m*\u001b[0m\u001b[0margs\u001b[0m\u001b[0;34m,\u001b[0m \u001b[0;34m**\u001b[0m\u001b[0mkwargs\u001b[0m\u001b[0;34m)\u001b[0m\u001b[0;34m)\u001b[0m\u001b[0;34m\u001b[0m\u001b[0;34m\u001b[0m\u001b[0m\n\u001b[0m",
            "\u001b[0;32m/usr/local/lib/python3.7/dist-packages/imageio/core/functions.py\u001b[0m in \u001b[0;36mimread\u001b[0;34m(uri, format, **kwargs)\u001b[0m\n\u001b[1;32m    219\u001b[0m \u001b[0;34m\u001b[0m\u001b[0m\n\u001b[1;32m    220\u001b[0m     \u001b[0;31m# Get reader and read first\u001b[0m\u001b[0;34m\u001b[0m\u001b[0;34m\u001b[0m\u001b[0;34m\u001b[0m\u001b[0m\n\u001b[0;32m--> 221\u001b[0;31m     \u001b[0mreader\u001b[0m \u001b[0;34m=\u001b[0m \u001b[0mread\u001b[0m\u001b[0;34m(\u001b[0m\u001b[0muri\u001b[0m\u001b[0;34m,\u001b[0m \u001b[0mformat\u001b[0m\u001b[0;34m,\u001b[0m \u001b[0;34m\"i\"\u001b[0m\u001b[0;34m,\u001b[0m \u001b[0;34m**\u001b[0m\u001b[0mkwargs\u001b[0m\u001b[0;34m)\u001b[0m\u001b[0;34m\u001b[0m\u001b[0;34m\u001b[0m\u001b[0m\n\u001b[0m\u001b[1;32m    222\u001b[0m     \u001b[0;32mwith\u001b[0m \u001b[0mreader\u001b[0m\u001b[0;34m:\u001b[0m\u001b[0;34m\u001b[0m\u001b[0;34m\u001b[0m\u001b[0m\n\u001b[1;32m    223\u001b[0m         \u001b[0;32mreturn\u001b[0m \u001b[0mreader\u001b[0m\u001b[0;34m.\u001b[0m\u001b[0mget_data\u001b[0m\u001b[0;34m(\u001b[0m\u001b[0;36m0\u001b[0m\u001b[0;34m)\u001b[0m\u001b[0;34m\u001b[0m\u001b[0;34m\u001b[0m\u001b[0m\n",
            "\u001b[0;32m/usr/local/lib/python3.7/dist-packages/imageio/core/functions.py\u001b[0m in \u001b[0;36mget_reader\u001b[0;34m(uri, format, mode, **kwargs)\u001b[0m\n\u001b[1;32m    128\u001b[0m \u001b[0;34m\u001b[0m\u001b[0m\n\u001b[1;32m    129\u001b[0m     \u001b[0;31m# Create request object\u001b[0m\u001b[0;34m\u001b[0m\u001b[0;34m\u001b[0m\u001b[0;34m\u001b[0m\u001b[0m\n\u001b[0;32m--> 130\u001b[0;31m     \u001b[0mrequest\u001b[0m \u001b[0;34m=\u001b[0m \u001b[0mRequest\u001b[0m\u001b[0;34m(\u001b[0m\u001b[0muri\u001b[0m\u001b[0;34m,\u001b[0m \u001b[0;34m\"r\"\u001b[0m \u001b[0;34m+\u001b[0m \u001b[0mmode\u001b[0m\u001b[0;34m,\u001b[0m \u001b[0;34m**\u001b[0m\u001b[0mkwargs\u001b[0m\u001b[0;34m)\u001b[0m\u001b[0;34m\u001b[0m\u001b[0;34m\u001b[0m\u001b[0m\n\u001b[0m\u001b[1;32m    131\u001b[0m \u001b[0;34m\u001b[0m\u001b[0m\n\u001b[1;32m    132\u001b[0m     \u001b[0;31m# Get format\u001b[0m\u001b[0;34m\u001b[0m\u001b[0;34m\u001b[0m\u001b[0;34m\u001b[0m\u001b[0m\n",
            "\u001b[0;32m/usr/local/lib/python3.7/dist-packages/imageio/core/request.py\u001b[0m in \u001b[0;36m__init__\u001b[0;34m(self, uri, mode, **kwargs)\u001b[0m\n\u001b[1;32m    123\u001b[0m \u001b[0;34m\u001b[0m\u001b[0m\n\u001b[1;32m    124\u001b[0m         \u001b[0;31m# Parse what was given\u001b[0m\u001b[0;34m\u001b[0m\u001b[0;34m\u001b[0m\u001b[0;34m\u001b[0m\u001b[0m\n\u001b[0;32m--> 125\u001b[0;31m         \u001b[0mself\u001b[0m\u001b[0;34m.\u001b[0m\u001b[0m_parse_uri\u001b[0m\u001b[0;34m(\u001b[0m\u001b[0muri\u001b[0m\u001b[0;34m)\u001b[0m\u001b[0;34m\u001b[0m\u001b[0;34m\u001b[0m\u001b[0m\n\u001b[0m\u001b[1;32m    126\u001b[0m \u001b[0;34m\u001b[0m\u001b[0m\n\u001b[1;32m    127\u001b[0m         \u001b[0;31m# Set extension\u001b[0m\u001b[0;34m\u001b[0m\u001b[0;34m\u001b[0m\u001b[0;34m\u001b[0m\u001b[0m\n",
            "\u001b[0;32m/usr/local/lib/python3.7/dist-packages/imageio/core/request.py\u001b[0m in \u001b[0;36m_parse_uri\u001b[0;34m(self, uri)\u001b[0m\n\u001b[1;32m    271\u001b[0m                 \u001b[0;31m# Reading: check that the file exists (but is allowed a dir)\u001b[0m\u001b[0;34m\u001b[0m\u001b[0;34m\u001b[0m\u001b[0;34m\u001b[0m\u001b[0m\n\u001b[1;32m    272\u001b[0m                 \u001b[0;32mif\u001b[0m \u001b[0;32mnot\u001b[0m \u001b[0mos\u001b[0m\u001b[0;34m.\u001b[0m\u001b[0mpath\u001b[0m\u001b[0;34m.\u001b[0m\u001b[0mexists\u001b[0m\u001b[0;34m(\u001b[0m\u001b[0mfn\u001b[0m\u001b[0;34m)\u001b[0m\u001b[0;34m:\u001b[0m\u001b[0;34m\u001b[0m\u001b[0;34m\u001b[0m\u001b[0m\n\u001b[0;32m--> 273\u001b[0;31m                     \u001b[0;32mraise\u001b[0m \u001b[0mFileNotFoundError\u001b[0m\u001b[0;34m(\u001b[0m\u001b[0;34m\"No such file: '%s'\"\u001b[0m \u001b[0;34m%\u001b[0m \u001b[0mfn\u001b[0m\u001b[0;34m)\u001b[0m\u001b[0;34m\u001b[0m\u001b[0;34m\u001b[0m\u001b[0m\n\u001b[0m\u001b[1;32m    274\u001b[0m             \u001b[0;32melse\u001b[0m\u001b[0;34m:\u001b[0m\u001b[0;34m\u001b[0m\u001b[0;34m\u001b[0m\u001b[0m\n\u001b[1;32m    275\u001b[0m                 \u001b[0;31m# Writing: check that the directory to write to does exist\u001b[0m\u001b[0;34m\u001b[0m\u001b[0;34m\u001b[0m\u001b[0;34m\u001b[0m\u001b[0m\n",
            "\u001b[0;31mFileNotFoundError\u001b[0m: No such file: '/content/Lena.jpg'"
          ]
        }
      ],
      "source": [
        "from google.colab.patches import cv2_imshow # for image display\n",
        "import numpy as np\n",
        "import pandas as pd\n",
        "import cv2 as cv\n",
        "from skimage import io\n",
        "from PIL import Image\n",
        "import matplotlib.pylab as plt\n",
        "\n",
        "\n",
        "image_0 = io.imread('Lena.jpg')\n",
        "# image_1 = io.imread('donjon.png')\n",
        "\n",
        "image = cv.cvtColor(image_0, cv.COLOR_BGR2RGB)\n",
        "cv2_imshow(image)"
      ]
    },
    {
      "cell_type": "code",
      "execution_count": null,
      "metadata": {
        "id": "hRBNHEoK5v_z"
      },
      "outputs": [],
      "source": [
        "print(np.shape(image[:,:,2]))"
      ]
    },
    {
      "cell_type": "code",
      "execution_count": null,
      "metadata": {
        "id": "yoPVY3AH7Hmh"
      },
      "outputs": [],
      "source": [
        "[rows, cols, layers] = np.shape(image)\n",
        "\n",
        "red_pixels = image[:,:,2]\n",
        "red_image = np.zeros((rows,cols, layers))\n",
        "\n",
        "red_image[:,:,2] = red_pixels\n",
        "\n",
        "cv2_imshow(red_image)\n",
        "# print(red_image)"
      ]
    },
    {
      "cell_type": "code",
      "execution_count": null,
      "metadata": {
        "id": "HjKGkRF1wjOx"
      },
      "outputs": [],
      "source": [
        "'''2. Implement a function able to generate the negative of an image (from 255,\n",
        "you will so need to substract the intensity’s component – RGB - of each pixel.\n",
        "This will invert each color’s intensity of each pixel: the bright will become dark\n",
        "and vice versa).'''"
      ]
    },
    {
      "cell_type": "code",
      "execution_count": null,
      "metadata": {
        "id": "84WZgkMkxErj"
      },
      "outputs": [],
      "source": [
        "#create an array containing only 255 values\n",
        "\n",
        "ones_array = np.ones((rows,cols, layers))\n",
        "white_img = 255*ones_array\n",
        "\n",
        "inverse_img = white_img - image\n",
        "cv2_imshow(inverse_img)"
      ]
    },
    {
      "cell_type": "code",
      "source": [
        "'''3. Convert a color image in black and white (gray level). In such an image,\n",
        "each pixel is black, white or has a gray level between 0 and 1. This means\n",
        "that the components have the same value. The standard formula giving the\n",
        "grey level function of the components is:'''"
      ],
      "metadata": {
        "id": "wMubDTdyA2MB"
      },
      "execution_count": null,
      "outputs": []
    },
    {
      "cell_type": "code",
      "source": [
        "bnw_list = [[0.299*pixel[0] + 0.587*pixel[1] + 0.114*pixel[2] for pixel in col] for col in image]\n",
        "bnw_img = np.array(bnw_list)\n",
        "cv2_imshow(bnw_img)"
      ],
      "metadata": {
        "id": "aDaqLAiFA6XY"
      },
      "execution_count": null,
      "outputs": []
    },
    {
      "cell_type": "code",
      "source": [
        "'''4. Convert a color image to sepia tones. In photography, sepia is a print quality\n",
        "that looks like black and white, but with variations of brown, not gray. In the\n",
        "transformation of a color image into an image in sepia tones, we consider\n",
        "the next transformations:'''"
      ],
      "metadata": {
        "id": "j-rGrCP9DSc5"
      },
      "execution_count": null,
      "outputs": []
    },
    {
      "cell_type": "code",
      "source": [
        "inputRed = image[:,:,2]\n",
        "inputGreen = image[:,:,1]\n",
        "inputBlue = image[:,:,0]\n",
        "\n",
        "outputRed = (inputRed * .393) + (inputGreen *.769) + (inputBlue * .189)\n",
        "outputGreen = (inputRed * .349) + (inputGreen *.686) + (inputBlue * .168)\n",
        "outputBlue = (inputRed * .272) + (inputGreen *.534) + (inputBlue * .131)\n",
        "\n",
        "sepia_img = np.zeros((rows, cols, layers))\n",
        "\n",
        "sepia_img[:,:,2] = outputRed\n",
        "sepia_img[:,:,1] = outputGreen\n",
        "sepia_img[:,:,0] = outputBlue\n",
        "\n",
        "cv2_imshow(sepia_img)"
      ],
      "metadata": {
        "id": "Oy7bZXsVP-BD"
      },
      "execution_count": null,
      "outputs": []
    },
    {
      "cell_type": "code",
      "source": [
        "''' 5. \"Contrast\". For each component of each pixel,\n",
        "apply the following rules: a. If the value is less than\n",
        "30, assign the value 0.\n",
        "b. If the value is greater than 225, assign the value 255.\n",
        "c. The c values between 30 and 225 will be recalculated with the formula:\n",
        "(255.0 / 195.0) * (c - 30) + 0.5.\n",
        "With a calculator, you will find that, for example: 30 becomes 0, 225\n",
        "becomes 255, 45 becomes 20, 180 becomes 196, 120 becomes 118. The\n",
        "values \"deviate\" from each other, which increases the contrast. '''"
      ],
      "metadata": {
        "id": "c-J2uVQrR_xi"
      },
      "execution_count": null,
      "outputs": []
    },
    {
      "cell_type": "code",
      "source": [
        "# create copie\n",
        "contrast_img = image.copy()\n",
        "\n",
        "for i in range(len(contrast_img)):\n",
        "  for j in range(len(contrast_img[i,:,:])):\n",
        "    for k in range(len(contrast_img[i, j,:])):\n",
        "\n",
        "      if contrast_img[i,j,k] < 30: \n",
        "        contrast_img[i,j,k]=0\n",
        "      elif contrast_img[i,j,k] > 225:\n",
        "        contrast_img[i,j,k] = 255\n",
        "      else:\n",
        "        contrast_img[i,j,k] = (255.0 / 195.0) * (contrast_img[i,j,k] - 30) + 0.5\n",
        "\n",
        "print(image[2,30,0])\n",
        "print(contrast_img[2,30,0])\n",
        "\n",
        "cv2_imshow(contrast_img)\n",
        "cv2_imshow(image)"
      ],
      "metadata": {
        "id": "TGAgPspNSE_1"
      },
      "execution_count": null,
      "outputs": []
    },
    {
      "cell_type": "code",
      "source": [
        "'''6. Thresholding. Image thresholding is the simplest method of image\n",
        "segmentation. From a grayscale image, image thresholding can be used to\n",
        "create an image with only two values, black or white (monochrome). The\n",
        "pixels of an image are replaced one by one with respect to a fixed threshold\n",
        "value (for example 123). Thus, if a pixel has a value greater than the threshold\n",
        "(for example 150), it will take the value 255 (white), and if its value is lower\n",
        "(for example 100), it will take the value 0 (black).'''"
      ],
      "metadata": {
        "id": "RsBR53OogVvX"
      },
      "execution_count": null,
      "outputs": []
    },
    {
      "cell_type": "code",
      "source": [
        "#for black and white images\n",
        "\n",
        "monochrome_list = [[255 if pixel > 123 else 0 for pixel in col] for col in bnw_img]\n",
        "\n",
        "monochrome = np.array(monochrome_list)\n",
        "\n",
        "cv2_imshow(monochrome)"
      ],
      "metadata": {
        "id": "o_T06D3vgZGQ"
      },
      "execution_count": null,
      "outputs": []
    },
    {
      "cell_type": "code",
      "source": [
        "# for multicolored images\n",
        "\n",
        "\n",
        "monochrome_list = [[[255 if layer > 123 else 0 for layer in pixel] for pixel in col] for col in image]\n",
        "\n",
        "monochrome = np.array(monochrome_list)\n",
        "\n",
        "cv2_imshow(monochrome)"
      ],
      "metadata": {
        "id": "ONLCiPefiB9A"
      },
      "execution_count": null,
      "outputs": []
    },
    {
      "cell_type": "code",
      "source": [
        "'''7. Flip the image around the horizontal axis.'''"
      ],
      "metadata": {
        "id": "wocIkMGQiy4e"
      },
      "execution_count": null,
      "outputs": []
    },
    {
      "cell_type": "code",
      "source": [
        "flipped = image.copy()\n",
        "\n",
        "for i in range(len(flipped)):\n",
        "  for j in range(len(flipped[i,:,:])):\n",
        "    flipped[i, j, :] = image[rows-i-1, j, :]\n",
        "\n",
        "cv2_imshow(flipped)"
      ],
      "metadata": {
        "id": "nwpoV8wMi3OJ"
      },
      "execution_count": null,
      "outputs": []
    },
    {
      "cell_type": "code",
      "source": [
        "'''8. Generate a blue border with a width of 5 pixels'''"
      ],
      "metadata": {
        "id": "nxlEvFHekjqR"
      },
      "execution_count": null,
      "outputs": []
    },
    {
      "cell_type": "code",
      "source": [
        "blue_border = image.copy()\n",
        "\n",
        "for i in range(5):\n",
        "  blue_border[i, :, :] = np.array([255,0,0])\n",
        "  blue_border[rows-1-i, :, :] = np.array([255,0,0])\n",
        "  blue_border[:, i, :] = np.array([255,0,0])\n",
        "  blue_border[:, cols -1-i, :] = np.array([255,0,0])\n",
        "\n",
        "cv2_imshow(blue_border)"
      ],
      "metadata": {
        "id": "BkF_VfRQkqHU"
      },
      "execution_count": null,
      "outputs": []
    },
    {
      "cell_type": "code",
      "source": [
        "'''9. Create an edge that will give an impression of relief. It will consist of 4\n",
        "polygonal regions with a width of 10 pixels. The pixels of the top region will\n",
        "be lightened by 65, those of the bottom region darkened by 65. On the right\n",
        "and left, they will be darkened by 40. The difficulty of the exercise lies in\n",
        "managing the corners ...'''"
      ],
      "metadata": {
        "id": "cpqI0DRlnEAe"
      },
      "execution_count": null,
      "outputs": []
    },
    {
      "cell_type": "code",
      "source": [
        "relief = image.copy()\n",
        "relief = np.array(relief, dtype=np.int32)\n",
        "\n",
        "for i in range(10):\n",
        "  relief[i, i:cols-i,:] += 65\n",
        "  relief[rows-1-i, i:cols-i,:] -= 65\n",
        "  relief[i:rows-i, i,:] -= 40\n",
        "  relief[i:rows-i, cols-i-1,:] -= 40\n",
        "\n",
        "cv2_imshow(relief)"
      ],
      "metadata": {
        "id": "hRJxlDq1nZZ4"
      },
      "execution_count": null,
      "outputs": []
    },
    {
      "cell_type": "code",
      "source": [
        "''' 10. \"Pixelize\" (ordinal = 10). The idea is to divide the image into squares of 10 by\n",
        "10 pixels (in the edges, they will be rectangles). In a \"square\", each\n",
        "component of each pixel will be the average value of the square.'''"
      ],
      "metadata": {
        "id": "FxDBhlHKuqOd"
      },
      "execution_count": null,
      "outputs": []
    },
    {
      "cell_type": "code",
      "source": [
        "cut_image = image[4:rows-5, 2:cols-2,:]\n",
        "rows1, cols1, layers1 = np.shape(cut_image)\n",
        "\n",
        "vertical_divisions = int(rows1/10)\n",
        "horizontal_divisions = int(cols1/10)\n",
        "\n",
        "temp_array = np.zeros((vertical_divisions, horizontal_divisions, layers))\n",
        "\n",
        "for ii,i in enumerate(range(5, rows1, 10)):\n",
        "  for jj,j in enumerate(range(5, cols1, 10)):\n",
        "    temp_array[ii, jj, :] = cut_image[i,j,:]\n",
        "\n",
        "for i in range(len(cut_image)):\n",
        "  for j in range(len(cut_image[i,:,:])):\n",
        "      ii = i // 10\n",
        "      jj = j // 10\n",
        "      \n",
        "      cut_image[i,j,:] = temp_array[ii, jj, :]\n",
        "\n",
        "print(cut_image)\n",
        "cv2_imshow(cut_image)"
      ],
      "metadata": {
        "id": "cyQ9sS9T0Ibe"
      },
      "execution_count": null,
      "outputs": []
    }
  ],
  "metadata": {
    "colab": {
      "collapsed_sections": [],
      "name": "tp1 - traitement de l'image.ipynb",
      "provenance": []
    },
    "kernelspec": {
      "display_name": "Python 3",
      "name": "python3"
    },
    "language_info": {
      "name": "python"
    }
  },
  "nbformat": 4,
  "nbformat_minor": 0
}
